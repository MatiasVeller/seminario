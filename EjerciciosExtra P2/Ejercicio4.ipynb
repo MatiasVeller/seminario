{
 "cells": [
  {
   "cell_type": "code",
   "execution_count": 2,
   "metadata": {},
   "outputs": [
    {
     "name": "stdout",
     "output_type": "stream",
     "text": [
      "El nombre de usuario no cumple con los requisitos.\n"
     ]
    }
   ],
   "source": [
    "import string\n",
    "\n",
    "name = input(\"Ingrese un nombre de usuario: \")\n",
    "estado = False \n",
    "mayus = string.ascii_uppercase\n",
    "letters_and_numbres = string.ascii_letters + string.digits\n",
    "\n",
    "if name.count(\"\") >= 5:\n",
    "    for char in name:\n",
    "        if char.isdigit():\n",
    "            estado = True\n",
    "            break\n",
    "    if estado:\n",
    "        estado = False\n",
    "        for char2 in name:\n",
    "            if char2 in mayus:\n",
    "                estado = True\n",
    "                break\n",
    "        if estado:\n",
    "            for char3 in name:\n",
    "                if not char3 in letters_and_numbres:\n",
    "                    estado = False \n",
    "                    break \n",
    "if estado:\n",
    "    print('El nombre de usuario es válido.')\n",
    "else:\n",
    "    print('El nombre de usuario no cumple con los requisitos.')\n",
    "\n",
    "\n",
    "\n"
   ]
  }
 ],
 "metadata": {
  "kernelspec": {
   "display_name": "Python 3",
   "language": "python",
   "name": "python3"
  },
  "language_info": {
   "codemirror_mode": {
    "name": "ipython",
    "version": 3
   },
   "file_extension": ".py",
   "mimetype": "text/x-python",
   "name": "python",
   "nbconvert_exporter": "python",
   "pygments_lexer": "ipython3",
   "version": "3.12.9"
  }
 },
 "nbformat": 4,
 "nbformat_minor": 2
}
