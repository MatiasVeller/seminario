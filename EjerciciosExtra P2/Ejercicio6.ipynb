{
 "cells": [
  {
   "cell_type": "code",
   "execution_count": 29,
   "metadata": {},
   "outputs": [
    {
     "name": "stdout",
     "output_type": "stream",
     "text": [
      "Menciones de 'música': 4\n",
      "Menciones de 'charla': 2\n",
      "Menciones de 'entretenimiento': 1\n"
     ]
    }
   ],
   "source": [
    "def count():\n",
    "    descriptions = [\n",
    "    \"Streaming de música en vivo con covers y composiciones\",\n",
    "    \"Charla interactiva con la audiencia sobre series y películas\",\n",
    "    \"Jugamos a juegos retro y charlamos sobre su historia\",\n",
    "    \"Exploramos la mejor música de los 80s y 90s\",\n",
    "    \"Programa de entretenimiento con noticias y curiosidades del mundo gamer\",\n",
    "    \"Sesión de charla con invitados especiales del mundo del streaming\",\n",
    "    \"Música en directo con improvisaciones y peticiones del chat\",\n",
    "    \"Un espacio para charlar relajada sobre tecnología y cultura digital\",\n",
    "    \"Exploramos el impacto de la música en los videojuegos clásicos\"\n",
    "    ]\n",
    "    musica = 0\n",
    "    charla = 0\n",
    "    entretenimiento = 0\n",
    "\n",
    "    for sentence in descriptions:\n",
    "        sentence = sentence.lower()\n",
    "        sentence = sentence.split()\n",
    "        if 'entretenimiento' in sentence:\n",
    "            entretenimiento += 1\n",
    "        elif 'charla' in sentence:\n",
    "            charla += 1\n",
    "        elif 'música' in sentence:\n",
    "            musica += 1\n",
    "    print(f\"Menciones de 'música': {musica}\\nMenciones de 'charla': {charla}\\nMenciones de 'entretenimiento': {entretenimiento}\")\n",
    "\n",
    "#main \n",
    "count()\n"
   ]
  }
 ],
 "metadata": {
  "kernelspec": {
   "display_name": "Python 3",
   "language": "python",
   "name": "python3"
  },
  "language_info": {
   "codemirror_mode": {
    "name": "ipython",
    "version": 3
   },
   "file_extension": ".py",
   "mimetype": "text/x-python",
   "name": "python",
   "nbconvert_exporter": "python",
   "pygments_lexer": "ipython3",
   "version": "3.12.9"
  }
 },
 "nbformat": 4,
 "nbformat_minor": 2
}
