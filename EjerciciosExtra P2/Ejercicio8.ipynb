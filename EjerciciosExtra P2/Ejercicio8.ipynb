{
 "cells": [
  {
   "cell_type": "code",
   "execution_count": 17,
   "metadata": {},
   "outputs": [
    {
     "name": "stdout",
     "output_type": "stream",
     "text": [
      "Son anagramas.\n"
     ]
    }
   ],
   "source": [
    "def check(f,s):\n",
    "    f = list(f)\n",
    "    s = list(s)\n",
    "    if len(f) != len(f):\n",
    "        return False\n",
    "    for letter in f:\n",
    "        if not letter in s:\n",
    "            return False\n",
    "    for letter in s:\n",
    "        if not letter in f:\n",
    "            return False\n",
    "    return True\n",
    "\n",
    "first = input(\"Ingrese la primera palabra: \")\n",
    "second = input(\"Ingrese la segunda palabra: \")\n",
    "\n",
    "if check(first,second):\n",
    "    print(\"Son anagramas.\")\n",
    "else:\n",
    "    print(\"No son anagramas.\")"
   ]
  }
 ],
 "metadata": {
  "kernelspec": {
   "display_name": "Python 3",
   "language": "python",
   "name": "python3"
  },
  "language_info": {
   "codemirror_mode": {
    "name": "ipython",
    "version": 3
   },
   "file_extension": ".py",
   "mimetype": "text/x-python",
   "name": "python",
   "nbconvert_exporter": "python",
   "pygments_lexer": "ipython3",
   "version": "3.12.9"
  }
 },
 "nbformat": 4,
 "nbformat_minor": 2
}
