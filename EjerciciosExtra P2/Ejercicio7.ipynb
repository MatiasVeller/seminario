{
 "cells": [
  {
   "cell_type": "code",
   "execution_count": 9,
   "metadata": {},
   "outputs": [
    {
     "name": "stdout",
     "output_type": "stream",
     "text": [
      "STREAMERPRO-20250410-EK3ZU1ISU\n"
     ]
    }
   ],
   "source": [
    "import random\n",
    "import string\n",
    "\n",
    "def generador (cadena):\n",
    "    cant = 30 - len(cadena)\n",
    "    char = string.ascii_uppercase + string.digits\n",
    "    for i in range(cant):\n",
    "            cadena = cadena + (random.choice(char))\n",
    "    print(cadena)\n",
    "\n",
    "usuario = (input(\"Usuario: \")).upper()\n",
    "fecha = input(\"Fecha: \")\n",
    "\n",
    "if len(usuario) <= 15:\n",
    "    usuario = usuario + \"-\"\n",
    "    fecha = fecha.split(\"-\")\n",
    "    for i in fecha:\n",
    "        usuario = usuario + i\n",
    "    usuario = usuario + \"-\"  \n",
    "    generador(usuario)\n",
    "else:\n",
    "    print(\"Te excediste de 15 caracteres \")\n",
    "\n",
    "\n",
    "\n",
    "\n",
    "\n"
   ]
  }
 ],
 "metadata": {
  "kernelspec": {
   "display_name": "Python 3",
   "language": "python",
   "name": "python3"
  },
  "language_info": {
   "codemirror_mode": {
    "name": "ipython",
    "version": 3
   },
   "file_extension": ".py",
   "mimetype": "text/x-python",
   "name": "python",
   "nbconvert_exporter": "python",
   "pygments_lexer": "ipython3",
   "version": "3.12.9"
  }
 },
 "nbformat": 4,
 "nbformat_minor": 2
}
