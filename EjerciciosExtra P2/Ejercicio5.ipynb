{
 "cells": [
  {
   "cell_type": "code",
   "execution_count": 4,
   "metadata": {},
   "outputs": [
    {
     "name": "stdout",
     "output_type": "stream",
     "text": [
      "Lento\n"
     ]
    }
   ],
   "source": [
    "def medir():\n",
    "    time = int(input(\"Ingrese su tiempo de reaccion en ms: \"))\n",
    "    if time < 200:\n",
    "        print('Rapido')\n",
    "    elif time > 200 and time < 500:\n",
    "        print('Normal')\n",
    "    elif time > 500:\n",
    "        print('Lento')\n",
    "\n",
    "#main\n",
    "\n",
    "medir()"
   ]
  }
 ],
 "metadata": {
  "kernelspec": {
   "display_name": "Python 3",
   "language": "python",
   "name": "python3"
  },
  "language_info": {
   "codemirror_mode": {
    "name": "ipython",
    "version": 3
   },
   "file_extension": ".py",
   "mimetype": "text/x-python",
   "name": "python",
   "nbconvert_exporter": "python",
   "pygments_lexer": "ipython3",
   "version": "3.12.9"
  }
 },
 "nbformat": 4,
 "nbformat_minor": 2
}
